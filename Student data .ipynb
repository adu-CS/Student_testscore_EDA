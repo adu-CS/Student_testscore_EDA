{
 "cells": [
  {
   "cell_type": "code",
   "execution_count": 5,
   "id": "3ce35afe",
   "metadata": {},
   "outputs": [
    {
     "ename": "ModuleNotFoundError",
     "evalue": "No module named 'plotly'",
     "output_type": "error",
     "traceback": [
      "\u001b[1;31m---------------------------------------------------------------------------\u001b[0m",
      "\u001b[1;31mModuleNotFoundError\u001b[0m                       Traceback (most recent call last)",
      "Cell \u001b[1;32mIn[5], line 4\u001b[0m\n\u001b[0;32m      2\u001b[0m \u001b[38;5;28;01mimport\u001b[39;00m \u001b[38;5;21;01mnumpy\u001b[39;00m \u001b[38;5;28;01mas\u001b[39;00m \u001b[38;5;21;01mnp\u001b[39;00m\n\u001b[0;32m      3\u001b[0m \u001b[38;5;28;01mimport\u001b[39;00m \u001b[38;5;21;01mseaborn\u001b[39;00m \u001b[38;5;28;01mas\u001b[39;00m \u001b[38;5;21;01msns\u001b[39;00m\n\u001b[1;32m----> 4\u001b[0m \u001b[38;5;28;01mimport\u001b[39;00m \u001b[38;5;21;01mplotly\u001b[39;00m\u001b[38;5;21;01m.\u001b[39;00m\u001b[38;5;21;01mexpress\u001b[39;00m \u001b[38;5;28;01mas\u001b[39;00m \u001b[38;5;21;01mpx\u001b[39;00m\n",
      "\u001b[1;31mModuleNotFoundError\u001b[0m: No module named 'plotly'"
     ]
    }
   ],
   "source": [
    "import pandas as pd\n",
    "import numpy as np\n",
    "import seaborn as sns\n",
    "import plotly.express as px"
   ]
  },
  {
   "cell_type": "code",
   "execution_count": 4,
   "id": "bd0e5636",
   "metadata": {},
   "outputs": [],
   "source": [
    "data=pd.read_csv(\"C:\\\\Users\\\\adars\\\\Downloads\\\\student_extended_ml_dataset2.csv\")"
   ]
  },
  {
   "cell_type": "code",
   "execution_count": 5,
   "id": "5d330a8e",
   "metadata": {},
   "outputs": [
    {
     "data": {
      "text/html": [
       "<div>\n",
       "<style scoped>\n",
       "    .dataframe tbody tr th:only-of-type {\n",
       "        vertical-align: middle;\n",
       "    }\n",
       "\n",
       "    .dataframe tbody tr th {\n",
       "        vertical-align: top;\n",
       "    }\n",
       "\n",
       "    .dataframe thead th {\n",
       "        text-align: right;\n",
       "    }\n",
       "</style>\n",
       "<table border=\"1\" class=\"dataframe\">\n",
       "  <thead>\n",
       "    <tr style=\"text-align: right;\">\n",
       "      <th></th>\n",
       "      <th>Name</th>\n",
       "      <th>Age</th>\n",
       "      <th>Gender</th>\n",
       "      <th>Hours_Studied</th>\n",
       "      <th>IQ</th>\n",
       "      <th>Physics_Marks</th>\n",
       "      <th>Math_Marks</th>\n",
       "      <th>Chemistry_Marks</th>\n",
       "      <th>Has_Part_Time_Job</th>\n",
       "      <th>Study_Hours_Group</th>\n",
       "    </tr>\n",
       "  </thead>\n",
       "  <tbody>\n",
       "    <tr>\n",
       "      <th>0</th>\n",
       "      <td>Jason Vargas</td>\n",
       "      <td>19</td>\n",
       "      <td>Male</td>\n",
       "      <td>8.140821</td>\n",
       "      <td>92</td>\n",
       "      <td>87</td>\n",
       "      <td>43</td>\n",
       "      <td>85</td>\n",
       "      <td>True</td>\n",
       "      <td>High</td>\n",
       "    </tr>\n",
       "    <tr>\n",
       "      <th>1</th>\n",
       "      <td>Sandra Wiggins</td>\n",
       "      <td>35</td>\n",
       "      <td>Female</td>\n",
       "      <td>9.825626</td>\n",
       "      <td>112</td>\n",
       "      <td>86</td>\n",
       "      <td>81</td>\n",
       "      <td>54</td>\n",
       "      <td>False</td>\n",
       "      <td>High</td>\n",
       "    </tr>\n",
       "    <tr>\n",
       "      <th>2</th>\n",
       "      <td>Julia Olsen</td>\n",
       "      <td>33</td>\n",
       "      <td>Male</td>\n",
       "      <td>8.835372</td>\n",
       "      <td>131</td>\n",
       "      <td>87</td>\n",
       "      <td>52</td>\n",
       "      <td>57</td>\n",
       "      <td>True</td>\n",
       "      <td>High</td>\n",
       "    </tr>\n",
       "    <tr>\n",
       "      <th>3</th>\n",
       "      <td>Robert Pennington</td>\n",
       "      <td>33</td>\n",
       "      <td>Male</td>\n",
       "      <td>2.482483</td>\n",
       "      <td>138</td>\n",
       "      <td>70</td>\n",
       "      <td>86</td>\n",
       "      <td>83</td>\n",
       "      <td>False</td>\n",
       "      <td>Low</td>\n",
       "    </tr>\n",
       "    <tr>\n",
       "      <th>4</th>\n",
       "      <td>Kayla Sellers</td>\n",
       "      <td>28</td>\n",
       "      <td>Female</td>\n",
       "      <td>4.419793</td>\n",
       "      <td>90</td>\n",
       "      <td>95</td>\n",
       "      <td>48</td>\n",
       "      <td>83</td>\n",
       "      <td>True</td>\n",
       "      <td>Low</td>\n",
       "    </tr>\n",
       "  </tbody>\n",
       "</table>\n",
       "</div>"
      ],
      "text/plain": [
       "                Name  Age  Gender  Hours_Studied   IQ  Physics_Marks  \\\n",
       "0       Jason Vargas   19    Male       8.140821   92             87   \n",
       "1     Sandra Wiggins   35  Female       9.825626  112             86   \n",
       "2        Julia Olsen   33    Male       8.835372  131             87   \n",
       "3  Robert Pennington   33    Male       2.482483  138             70   \n",
       "4      Kayla Sellers   28  Female       4.419793   90             95   \n",
       "\n",
       "   Math_Marks  Chemistry_Marks  Has_Part_Time_Job Study_Hours_Group  \n",
       "0          43               85               True              High  \n",
       "1          81               54              False              High  \n",
       "2          52               57               True              High  \n",
       "3          86               83              False               Low  \n",
       "4          48               83               True               Low  "
      ]
     },
     "execution_count": 5,
     "metadata": {},
     "output_type": "execute_result"
    }
   ],
   "source": [
    "data.head()"
   ]
  },
  {
   "cell_type": "code",
   "execution_count": 6,
   "id": "d9f737d4",
   "metadata": {},
   "outputs": [
    {
     "data": {
      "text/html": [
       "<div>\n",
       "<style scoped>\n",
       "    .dataframe tbody tr th:only-of-type {\n",
       "        vertical-align: middle;\n",
       "    }\n",
       "\n",
       "    .dataframe tbody tr th {\n",
       "        vertical-align: top;\n",
       "    }\n",
       "\n",
       "    .dataframe thead th {\n",
       "        text-align: right;\n",
       "    }\n",
       "</style>\n",
       "<table border=\"1\" class=\"dataframe\">\n",
       "  <thead>\n",
       "    <tr style=\"text-align: right;\">\n",
       "      <th></th>\n",
       "      <th>Name</th>\n",
       "      <th>Age</th>\n",
       "      <th>Gender</th>\n",
       "      <th>Hours_Studied</th>\n",
       "      <th>IQ</th>\n",
       "      <th>Physics_Marks</th>\n",
       "      <th>Math_Marks</th>\n",
       "      <th>Chemistry_Marks</th>\n",
       "      <th>Has_Part_Time_Job</th>\n",
       "      <th>Study_Hours_Group</th>\n",
       "    </tr>\n",
       "  </thead>\n",
       "  <tbody>\n",
       "    <tr>\n",
       "      <th>4995</th>\n",
       "      <td>Steven Lynch</td>\n",
       "      <td>30</td>\n",
       "      <td>Female</td>\n",
       "      <td>3.653474</td>\n",
       "      <td>143</td>\n",
       "      <td>93</td>\n",
       "      <td>59</td>\n",
       "      <td>85</td>\n",
       "      <td>True</td>\n",
       "      <td>Low</td>\n",
       "    </tr>\n",
       "    <tr>\n",
       "      <th>4996</th>\n",
       "      <td>Donna Hamilton</td>\n",
       "      <td>33</td>\n",
       "      <td>Female</td>\n",
       "      <td>1.096493</td>\n",
       "      <td>132</td>\n",
       "      <td>68</td>\n",
       "      <td>70</td>\n",
       "      <td>99</td>\n",
       "      <td>True</td>\n",
       "      <td>Low</td>\n",
       "    </tr>\n",
       "    <tr>\n",
       "      <th>4997</th>\n",
       "      <td>Mrs. Ashley Howard</td>\n",
       "      <td>38</td>\n",
       "      <td>Male</td>\n",
       "      <td>4.156770</td>\n",
       "      <td>111</td>\n",
       "      <td>76</td>\n",
       "      <td>96</td>\n",
       "      <td>71</td>\n",
       "      <td>False</td>\n",
       "      <td>Low</td>\n",
       "    </tr>\n",
       "    <tr>\n",
       "      <th>4998</th>\n",
       "      <td>Kendra Murray</td>\n",
       "      <td>18</td>\n",
       "      <td>Female</td>\n",
       "      <td>6.788548</td>\n",
       "      <td>137</td>\n",
       "      <td>81</td>\n",
       "      <td>98</td>\n",
       "      <td>73</td>\n",
       "      <td>False</td>\n",
       "      <td>High</td>\n",
       "    </tr>\n",
       "    <tr>\n",
       "      <th>4999</th>\n",
       "      <td>Christine Rodriguez</td>\n",
       "      <td>38</td>\n",
       "      <td>Male</td>\n",
       "      <td>1.627111</td>\n",
       "      <td>95</td>\n",
       "      <td>52</td>\n",
       "      <td>70</td>\n",
       "      <td>74</td>\n",
       "      <td>True</td>\n",
       "      <td>Low</td>\n",
       "    </tr>\n",
       "  </tbody>\n",
       "</table>\n",
       "</div>"
      ],
      "text/plain": [
       "                     Name  Age  Gender  Hours_Studied   IQ  Physics_Marks  \\\n",
       "4995         Steven Lynch   30  Female       3.653474  143             93   \n",
       "4996       Donna Hamilton   33  Female       1.096493  132             68   \n",
       "4997   Mrs. Ashley Howard   38    Male       4.156770  111             76   \n",
       "4998        Kendra Murray   18  Female       6.788548  137             81   \n",
       "4999  Christine Rodriguez   38    Male       1.627111   95             52   \n",
       "\n",
       "      Math_Marks  Chemistry_Marks  Has_Part_Time_Job Study_Hours_Group  \n",
       "4995          59               85               True               Low  \n",
       "4996          70               99               True               Low  \n",
       "4997          96               71              False               Low  \n",
       "4998          98               73              False              High  \n",
       "4999          70               74               True               Low  "
      ]
     },
     "execution_count": 6,
     "metadata": {},
     "output_type": "execute_result"
    }
   ],
   "source": [
    "data.tail()\n",
    "#size:5000 values"
   ]
  },
  {
   "cell_type": "code",
   "execution_count": 7,
   "id": "b3471285",
   "metadata": {},
   "outputs": [
    {
     "data": {
      "text/plain": [
       "Name                 4824\n",
       "Age                    28\n",
       "Gender                  2\n",
       "Hours_Studied        5000\n",
       "IQ                     71\n",
       "Physics_Marks          61\n",
       "Math_Marks             61\n",
       "Chemistry_Marks        61\n",
       "Has_Part_Time_Job       2\n",
       "Study_Hours_Group       2\n",
       "dtype: int64"
      ]
     },
     "execution_count": 7,
     "metadata": {},
     "output_type": "execute_result"
    }
   ],
   "source": [
    "data.nunique()"
   ]
  },
  {
   "cell_type": "code",
   "execution_count": 9,
   "id": "35f5a31c",
   "metadata": {},
   "outputs": [
    {
     "data": {
      "text/plain": [
       "Index(['Name', 'Age', 'Gender', 'Hours_Studied', 'IQ', 'Physics_Marks',\n",
       "       'Math_Marks', 'Chemistry_Marks', 'Has_Part_Time_Job',\n",
       "       'Study_Hours_Group'],\n",
       "      dtype='object')"
      ]
     },
     "execution_count": 9,
     "metadata": {},
     "output_type": "execute_result"
    }
   ],
   "source": [
    "data.columns"
   ]
  },
  {
   "cell_type": "code",
   "execution_count": 11,
   "id": "035513ad",
   "metadata": {},
   "outputs": [
    {
     "data": {
      "text/plain": [
       "Name                 0\n",
       "Age                  0\n",
       "Gender               0\n",
       "Hours_Studied        0\n",
       "IQ                   0\n",
       "Physics_Marks        0\n",
       "Math_Marks           0\n",
       "Chemistry_Marks      0\n",
       "Has_Part_Time_Job    0\n",
       "Study_Hours_Group    0\n",
       "dtype: int64"
      ]
     },
     "execution_count": 11,
     "metadata": {},
     "output_type": "execute_result"
    }
   ],
   "source": [
    "data.isnull().sum()"
   ]
  },
  {
   "cell_type": "code",
   "execution_count": 12,
   "id": "4f41aa7c",
   "metadata": {},
   "outputs": [
    {
     "data": {
      "text/html": [
       "<div>\n",
       "<style scoped>\n",
       "    .dataframe tbody tr th:only-of-type {\n",
       "        vertical-align: middle;\n",
       "    }\n",
       "\n",
       "    .dataframe tbody tr th {\n",
       "        vertical-align: top;\n",
       "    }\n",
       "\n",
       "    .dataframe thead th {\n",
       "        text-align: right;\n",
       "    }\n",
       "</style>\n",
       "<table border=\"1\" class=\"dataframe\">\n",
       "  <thead>\n",
       "    <tr style=\"text-align: right;\">\n",
       "      <th></th>\n",
       "      <th>Name</th>\n",
       "      <th>Age</th>\n",
       "      <th>Gender</th>\n",
       "      <th>Hours_Studied</th>\n",
       "      <th>IQ</th>\n",
       "      <th>Physics_Marks</th>\n",
       "      <th>Math_Marks</th>\n",
       "      <th>Chemistry_Marks</th>\n",
       "      <th>Has_Part_Time_Job</th>\n",
       "      <th>Study_Hours_Group</th>\n",
       "    </tr>\n",
       "  </thead>\n",
       "  <tbody>\n",
       "    <tr>\n",
       "      <th>0</th>\n",
       "      <td>Jason Vargas</td>\n",
       "      <td>19</td>\n",
       "      <td>Male</td>\n",
       "      <td>8.140821</td>\n",
       "      <td>92</td>\n",
       "      <td>87</td>\n",
       "      <td>43</td>\n",
       "      <td>85</td>\n",
       "      <td>True</td>\n",
       "      <td>High</td>\n",
       "    </tr>\n",
       "    <tr>\n",
       "      <th>1</th>\n",
       "      <td>Sandra Wiggins</td>\n",
       "      <td>35</td>\n",
       "      <td>Female</td>\n",
       "      <td>9.825626</td>\n",
       "      <td>112</td>\n",
       "      <td>86</td>\n",
       "      <td>81</td>\n",
       "      <td>54</td>\n",
       "      <td>False</td>\n",
       "      <td>High</td>\n",
       "    </tr>\n",
       "    <tr>\n",
       "      <th>2</th>\n",
       "      <td>Julia Olsen</td>\n",
       "      <td>33</td>\n",
       "      <td>Male</td>\n",
       "      <td>8.835372</td>\n",
       "      <td>131</td>\n",
       "      <td>87</td>\n",
       "      <td>52</td>\n",
       "      <td>57</td>\n",
       "      <td>True</td>\n",
       "      <td>High</td>\n",
       "    </tr>\n",
       "    <tr>\n",
       "      <th>3</th>\n",
       "      <td>Robert Pennington</td>\n",
       "      <td>33</td>\n",
       "      <td>Male</td>\n",
       "      <td>2.482483</td>\n",
       "      <td>138</td>\n",
       "      <td>70</td>\n",
       "      <td>86</td>\n",
       "      <td>83</td>\n",
       "      <td>False</td>\n",
       "      <td>Low</td>\n",
       "    </tr>\n",
       "    <tr>\n",
       "      <th>4</th>\n",
       "      <td>Kayla Sellers</td>\n",
       "      <td>28</td>\n",
       "      <td>Female</td>\n",
       "      <td>4.419793</td>\n",
       "      <td>90</td>\n",
       "      <td>95</td>\n",
       "      <td>48</td>\n",
       "      <td>83</td>\n",
       "      <td>True</td>\n",
       "      <td>Low</td>\n",
       "    </tr>\n",
       "  </tbody>\n",
       "</table>\n",
       "</div>"
      ],
      "text/plain": [
       "                Name  Age  Gender  Hours_Studied   IQ  Physics_Marks  \\\n",
       "0       Jason Vargas   19    Male       8.140821   92             87   \n",
       "1     Sandra Wiggins   35  Female       9.825626  112             86   \n",
       "2        Julia Olsen   33    Male       8.835372  131             87   \n",
       "3  Robert Pennington   33    Male       2.482483  138             70   \n",
       "4      Kayla Sellers   28  Female       4.419793   90             95   \n",
       "\n",
       "   Math_Marks  Chemistry_Marks  Has_Part_Time_Job Study_Hours_Group  \n",
       "0          43               85               True              High  \n",
       "1          81               54              False              High  \n",
       "2          52               57               True              High  \n",
       "3          86               83              False               Low  \n",
       "4          48               83               True               Low  "
      ]
     },
     "execution_count": 12,
     "metadata": {},
     "output_type": "execute_result"
    }
   ],
   "source": [
    "data.head()"
   ]
  },
  {
   "cell_type": "code",
   "execution_count": 4,
   "id": "b8392854",
   "metadata": {},
   "outputs": [
    {
     "ename": "NameError",
     "evalue": "name 'data' is not defined",
     "output_type": "error",
     "traceback": [
      "\u001b[1;31m---------------------------------------------------------------------------\u001b[0m",
      "\u001b[1;31mNameError\u001b[0m                                 Traceback (most recent call last)",
      "Cell \u001b[1;32mIn[4], line 1\u001b[0m\n\u001b[1;32m----> 1\u001b[0m \u001b[43mdata\u001b[49m\u001b[38;5;241m.\u001b[39mdescribe()[[\u001b[38;5;124m'\u001b[39m\u001b[38;5;124mIQ\u001b[39m\u001b[38;5;124m'\u001b[39m, \u001b[38;5;124m'\u001b[39m\u001b[38;5;124mPhysics_Marks\u001b[39m\u001b[38;5;124m'\u001b[39m]]\n",
      "\u001b[1;31mNameError\u001b[0m: name 'data' is not defined"
     ]
    }
   ],
   "source": [
    "data.describe()[['IQ', 'Physics_Marks']]"
   ]
  },
  {
   "cell_type": "code",
   "execution_count": 6,
   "id": "f0ba592a",
   "metadata": {},
   "outputs": [
    {
     "ename": "NameError",
     "evalue": "name 'px' is not defined",
     "output_type": "error",
     "traceback": [
      "\u001b[1;31m---------------------------------------------------------------------------\u001b[0m",
      "\u001b[1;31mNameError\u001b[0m                                 Traceback (most recent call last)",
      "Cell \u001b[1;32mIn[6], line 1\u001b[0m\n\u001b[1;32m----> 1\u001b[0m \u001b[43mpx\u001b[49m\u001b[38;5;241m.\u001b[39mbox()\n",
      "\u001b[1;31mNameError\u001b[0m: name 'px' is not defined"
     ]
    }
   ],
   "source": [
    "px.box()"
   ]
  },
  {
   "cell_type": "code",
   "execution_count": null,
   "id": "cef03ccf",
   "metadata": {},
   "outputs": [],
   "source": []
  }
 ],
 "metadata": {
  "kernelspec": {
   "display_name": "Python 3 (ipykernel)",
   "language": "python",
   "name": "python3"
  },
  "language_info": {
   "codemirror_mode": {
    "name": "ipython",
    "version": 3
   },
   "file_extension": ".py",
   "mimetype": "text/x-python",
   "name": "python",
   "nbconvert_exporter": "python",
   "pygments_lexer": "ipython3",
   "version": "3.11.1"
  }
 },
 "nbformat": 4,
 "nbformat_minor": 5
}
